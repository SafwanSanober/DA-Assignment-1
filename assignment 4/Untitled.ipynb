{
 "cells": [
  {
   "cell_type": "markdown",
   "id": "f173e477-460b-4231-9707-021fb839d5e2",
   "metadata": {},
   "source": [
    "# QUESTION NO:1"
   ]
  },
  {
   "cell_type": "code",
   "execution_count": 1,
   "id": "278705b4-fbb3-49a4-b335-d5cb9d5e614d",
   "metadata": {},
   "outputs": [
    {
     "name": "stdout",
     "output_type": "stream",
     "text": [
      "{'101': {'name': 'laptop', 'cateogory': 'electronic', 'price': 1200, 'stock': 50}, '102': {'name': 'shirt', 'category': 'apparel', 'price': 25, 'stock': 20}, '103': {'name': 'coffee maker', 'category': 'home appliances', 'price': 80, 'stock': 30}}\n"
     ]
    }
   ],
   "source": [
    "#An e-commerce store stores information about its products in a nested dictionary. The outer dictionary uses product IDs as keys, and the inner dictionary stores product details like name, category, price, and stock quantity. products = { 101: {\"name\": \"Laptop\", \"category\": \"Electronics\", \"price\": 1200, \"stock\": 50}, 102: {\"name\": \"Shirt\", \"category\": \"Apparel\", \"price\": 25, \"stock\": 200}, 103: {\"name\": \"Coffee Maker\", \"category\": \"Home Appliances\", \"price\": 80, \"stock\": 30} }\n",
    "\n",
    "#• Increase the stock of the \"Shirt\" product (add 50 more units)\n",
    "\n",
    "#• Add a new product (e.g., \"Smartphone\")\n",
    "my_dict = {\n",
    "    \"101\" : {\n",
    "        \"name\" : \"laptop\",\n",
    "         \"cateogory\" : \"electronic\",\n",
    "         \"price\" : 1200,\n",
    "         \"stock\" : 50, \n",
    "    },\n",
    "    \"102\" : {\n",
    "        \"name\" : \"shirt\",\n",
    "        \"category\" : \"apparel\",\n",
    "        \"price\" : 25,\n",
    "        \"stock\" : 20,\n",
    "    },\n",
    "    \"103\" : {\n",
    "        \"name\" : \"coffee maker\",\n",
    "        \"category\" : \"home appliances\",\n",
    "        \"price\" : 80,\n",
    "        \"stock\" : 30,\n",
    "    }\n",
    "}\n",
    "print(my_dict)\n",
    "\n",
    "\n",
    "        \n",
    "        \n",
    "         \n",
    " \n",
    "        \n",
    "        \n",
    "    \n",
    "\n",
    "    \n",
    "    \n",
    "\n",
    "    \n",
    "\n",
    "    \n",
    "\n",
    "\n"
   ]
  },
  {
   "cell_type": "code",
   "execution_count": null,
   "id": "7861535a-00b7-4d72-9ef9-082d8152facf",
   "metadata": {},
   "outputs": [],
   "source": []
  },
  {
   "cell_type": "code",
   "execution_count": 7,
   "id": "3a97d461-cab3-4145-9e26-49ec5455a6f4",
   "metadata": {},
   "outputs": [
    {
     "data": {
      "text/plain": [
       "['__class__',\n",
       " '__class_getitem__',\n",
       " '__contains__',\n",
       " '__delattr__',\n",
       " '__delitem__',\n",
       " '__dir__',\n",
       " '__doc__',\n",
       " '__eq__',\n",
       " '__format__',\n",
       " '__ge__',\n",
       " '__getattribute__',\n",
       " '__getitem__',\n",
       " '__getstate__',\n",
       " '__gt__',\n",
       " '__hash__',\n",
       " '__init__',\n",
       " '__init_subclass__',\n",
       " '__ior__',\n",
       " '__iter__',\n",
       " '__le__',\n",
       " '__len__',\n",
       " '__lt__',\n",
       " '__ne__',\n",
       " '__new__',\n",
       " '__or__',\n",
       " '__reduce__',\n",
       " '__reduce_ex__',\n",
       " '__repr__',\n",
       " '__reversed__',\n",
       " '__ror__',\n",
       " '__setattr__',\n",
       " '__setitem__',\n",
       " '__sizeof__',\n",
       " '__str__',\n",
       " '__subclasshook__',\n",
       " 'clear',\n",
       " 'copy',\n",
       " 'fromkeys',\n",
       " 'get',\n",
       " 'items',\n",
       " 'keys',\n",
       " 'pop',\n",
       " 'popitem',\n",
       " 'setdefault',\n",
       " 'update',\n",
       " 'values']"
      ]
     },
     "execution_count": 7,
     "metadata": {},
     "output_type": "execute_result"
    }
   ],
   "source": [
    "dir({})\n"
   ]
  },
  {
   "cell_type": "markdown",
   "id": "f32a5086-8232-4c67-912d-6c6e42c65250",
   "metadata": {},
   "source": [
    "#QUESTION:02"
   ]
  },
  {
   "cell_type": "code",
   "execution_count": 15,
   "id": "6bc53e51-dc82-42f6-8abb-3400339687fe",
   "metadata": {},
   "outputs": [
    {
     "name": "stdout",
     "output_type": "stream",
     "text": [
      "['apple', 'banana', 'orange', 'grape']\n"
     ]
    }
   ],
   "source": [
    "#You are given a list that contains some duplicate items. Remove the duplicates\n",
    "\n",
    "shopping_list = [\"apple\", \"banana\", \"apple\", \"orange\", \"banana\", \"grape\"]\n",
    "b =list(set(list(shopping_list)))\n",
    "print(b)"
   ]
  },
  {
   "cell_type": "code",
   "execution_count": 17,
   "id": "77ae3801-1a7c-48f7-8a9e-4eadb7b14e21",
   "metadata": {},
   "outputs": [
    {
     "data": {
      "text/plain": [
       "['__and__',\n",
       " '__class__',\n",
       " '__class_getitem__',\n",
       " '__contains__',\n",
       " '__delattr__',\n",
       " '__dir__',\n",
       " '__doc__',\n",
       " '__eq__',\n",
       " '__format__',\n",
       " '__ge__',\n",
       " '__getattribute__',\n",
       " '__getstate__',\n",
       " '__gt__',\n",
       " '__hash__',\n",
       " '__iand__',\n",
       " '__init__',\n",
       " '__init_subclass__',\n",
       " '__ior__',\n",
       " '__isub__',\n",
       " '__iter__',\n",
       " '__ixor__',\n",
       " '__le__',\n",
       " '__len__',\n",
       " '__lt__',\n",
       " '__ne__',\n",
       " '__new__',\n",
       " '__or__',\n",
       " '__rand__',\n",
       " '__reduce__',\n",
       " '__reduce_ex__',\n",
       " '__repr__',\n",
       " '__ror__',\n",
       " '__rsub__',\n",
       " '__rxor__',\n",
       " '__setattr__',\n",
       " '__sizeof__',\n",
       " '__str__',\n",
       " '__sub__',\n",
       " '__subclasshook__',\n",
       " '__xor__',\n",
       " 'add',\n",
       " 'clear',\n",
       " 'copy',\n",
       " 'difference',\n",
       " 'difference_update',\n",
       " 'discard',\n",
       " 'intersection',\n",
       " 'intersection_update',\n",
       " 'isdisjoint',\n",
       " 'issubset',\n",
       " 'issuperset',\n",
       " 'pop',\n",
       " 'remove',\n",
       " 'symmetric_difference',\n",
       " 'symmetric_difference_update',\n",
       " 'union',\n",
       " 'update']"
      ]
     },
     "execution_count": 17,
     "metadata": {},
     "output_type": "execute_result"
    }
   ],
   "source": [
    "dir({set})"
   ]
  },
  {
   "cell_type": "markdown",
   "id": "345d3779-71da-4a7c-a940-c28e670170c6",
   "metadata": {},
   "source": [
    "#QUESTION:03"
   ]
  },
  {
   "cell_type": "code",
   "execution_count": 18,
   "id": "94a68e7b-a8ff-474a-87b3-17ec96de0631",
   "metadata": {},
   "outputs": [
    {
     "name": "stdout",
     "output_type": "stream",
     "text": [
      "{'John', 'Bob'}\n"
     ]
    }
   ],
   "source": [
    "#You are managing a list of students enrolled in two different courses. You need to perform various set operations to understand the student enrollment. Task: Create two sets: one for students in \"Course A\" and one for students in \"Course B\". Find the students who are in \"Course A\" but not in \"Course B\" (difference). Find students who are only in one of the two courses (symmetric difference).\n",
    "\n",
    "course_a = {\"John\", \"Alice\", \"Bob\", \"David\"}\n",
    "\n",
    "course_b = {\"Alice\", \"Eve\", \"Charlie\", \"David\"}\n",
    "\n",
    "#• Find students who are in Course A but not in Course B (difference)\n",
    "\n",
    "#• Find students who are only in one of the two courses (symmetric difference)\n",
    "students = course_a.difference(course_b)\n",
    "print(students)"
   ]
  },
  {
   "cell_type": "code",
   "execution_count": 19,
   "id": "fc43fe15-115b-477e-a0c1-17ecd70aad96",
   "metadata": {},
   "outputs": [
    {
     "name": "stdout",
     "output_type": "stream",
     "text": [
      "{'Eve', 'Bob', 'John', 'Charlie'}\n"
     ]
    }
   ],
   "source": [
    "students1 = course_a.symmetric_difference(course_b)\n",
    "print(students1)"
   ]
  },
  {
   "cell_type": "markdown",
   "id": "64c85641-cd1f-40e6-bb26-46770ebea3cb",
   "metadata": {},
   "source": [
    "#QUESTION:04"
   ]
  },
  {
   "cell_type": "code",
   "execution_count": 23,
   "id": "da6e8938-f99f-42cc-b3d2-8c50aa57b5ea",
   "metadata": {},
   "outputs": [
    {
     "name": "stdout",
     "output_type": "stream",
     "text": [
      "the sum of all even numbers is: 600\n"
     ]
    }
   ],
   "source": [
    "#Write a Python program that calculates the sum of all even numbers between 1 and 50 (inclusive) using a for loop.\n",
    "\n",
    "#Hint\n",
    "\n",
    "#Initialize a variable to hold the sum (e.g., sum_of_evens).\n",
    "#Use a for loop to iterate through all numbers from 1 to 50.\n",
    "#Inside the loop, check if the number is even.\n",
    "#If the number is even, add it to sum_of_evens.\n",
    "#After the loop finishes, print the total sum of all even numbers between 1 and 50\n",
    "sum_of_evens = 0\n",
    "for number in range(1,50):\n",
    "    if number % 2 == 0:\n",
    "        sum_of_evens += number\n",
    "\n",
    "print(\"the sum of all even numbers is:\",sum_of_evens)\n",
    "      \n"
   ]
  },
  {
   "cell_type": "markdown",
   "id": "ed6d3567-3097-4312-a5a7-115ac0f75988",
   "metadata": {},
   "source": [
    "#QUESTION:05"
   ]
  },
  {
   "cell_type": "code",
   "execution_count": null,
   "id": "51dd6f21-e7d0-451f-b3c4-41f56855af95",
   "metadata": {},
   "outputs": [],
   "source": [
    "#Q5. Power of a Number Write a Python program that takes a number and prints the powers of the number (starting from 1 to 10) using a while loop. For example, if the user inputs 3, the output should be:\n",
    "\n",
    "#3^1 = 3\n",
    "\n",
    "#3^2 = 9\n",
    "\n",
    "#3^3 = 27\n",
    "\n",
    "#... up to 3^10.\n",
    "number = int(input(\"enter any number: \"))\n",
    "exponent = 1\n",
    "while exponent<=10:\n",
    "    result = number^exponent\n",
    "    exponent += 1\n",
    "\n",
    "\n",
    "             \n",
    "             "
   ]
  }
 ],
 "metadata": {
  "kernelspec": {
   "display_name": "Python 3 (ipykernel)",
   "language": "python",
   "name": "python3"
  },
  "language_info": {
   "codemirror_mode": {
    "name": "ipython",
    "version": 3
   },
   "file_extension": ".py",
   "mimetype": "text/x-python",
   "name": "python",
   "nbconvert_exporter": "python",
   "pygments_lexer": "ipython3",
   "version": "3.12.7"
  }
 },
 "nbformat": 4,
 "nbformat_minor": 5
}
