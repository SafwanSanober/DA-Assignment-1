{
 "cells": [
  {
   "cell_type": "code",
   "execution_count": 17,
   "id": "66668be7-ab17-408b-b98d-157a455bd0b6",
   "metadata": {},
   "outputs": [
    {
     "name": "stdout",
     "output_type": "stream",
     "text": [
      "the sum of 15 and 4 is 19\n"
     ]
    }
   ],
   "source": [
    "# ADDITION\n",
    "a = 15\n",
    "b = 4\n",
    "c =(a + b)\n",
    "print(\"the sum of 15 and 4 is\",c)"
   ]
  },
  {
   "cell_type": "code",
   "execution_count": 18,
   "id": "de682dc9-1095-4ddc-ab13-f432998d11ab",
   "metadata": {},
   "outputs": [
    {
     "name": "stdout",
     "output_type": "stream",
     "text": [
      "the difference of 15 and 4 is 11\n"
     ]
    }
   ],
   "source": [
    "# SUBTRACTION\n",
    "a = 15\n",
    "b = 4\n",
    "c =(a - b)\n",
    "print(\"the difference of 15 and 4 is\",c)"
   ]
  },
  {
   "cell_type": "code",
   "execution_count": 19,
   "id": "56afa77f-beb9-4f4d-b6ca-2c2451a8be13",
   "metadata": {},
   "outputs": [
    {
     "name": "stdout",
     "output_type": "stream",
     "text": [
      "the product of 15 and 4 is 60\n"
     ]
    }
   ],
   "source": [
    "# PRODUCT\n",
    "a = 15\n",
    "b = 4\n",
    "c =(a*b)\n",
    "print(\"the product of 15 and 4 is\",c)"
   ]
  },
  {
   "cell_type": "code",
   "execution_count": 20,
   "id": "30e090dd-84a2-4320-a6d1-fbff5cd7ddcb",
   "metadata": {},
   "outputs": [
    {
     "name": "stdout",
     "output_type": "stream",
     "text": [
      "when 15 divides by 4 it gives 3.75\n"
     ]
    }
   ],
   "source": [
    "# DIVISION\n",
    "a = 15\n",
    "b = 4\n",
    "c =(a/b)\n",
    "print(\"when 15 divides by 4 it gives\",c)"
   ]
  },
  {
   "cell_type": "code",
   "execution_count": 25,
   "id": "59970ef6-6d66-4542-b1a7-eb134ead477f",
   "metadata": {},
   "outputs": [
    {
     "name": "stdout",
     "output_type": "stream",
     "text": [
      "the floor division gives 3\n"
     ]
    }
   ],
   "source": [
    "# FLOOR DIVISION\n",
    "a = 15\n",
    "b = 4\n",
    "c =(a//b)\n",
    "print(\"the floor division gives\",c)"
   ]
  },
  {
   "cell_type": "code",
   "execution_count": 22,
   "id": "79cf1104-515e-4e84-aab3-c8799ce886d2",
   "metadata": {},
   "outputs": [
    {
     "name": "stdout",
     "output_type": "stream",
     "text": [
      "the remainder is 3\n"
     ]
    }
   ],
   "source": [
    "# MODULUS\n",
    "a = 15\n",
    "b = 4\n",
    "c = (a%b)\n",
    "print(\"the remainder is\",c)"
   ]
  },
  {
   "cell_type": "code",
   "execution_count": 35,
   "id": "0d089bc2-e1c5-43ed-b0de-9bcdcb2267ae",
   "metadata": {},
   "outputs": [
    {
     "name": "stdout",
     "output_type": "stream",
     "text": [
      "<class 'int'> 10.0 <class 'float'>\n"
     ]
    }
   ],
   "source": [
    "# TYPE CASTING\n",
    "num1 = 10 \n",
    "c = (type(num1))\n",
    "d = (float(num1))\n",
    "e = (type(d))\n",
    "print(c,d,e)\n"
   ]
  },
  {
   "cell_type": "code",
   "execution_count": 38,
   "id": "c1ffe8da-07e7-4080-88c6-f1121c609c04",
   "metadata": {},
   "outputs": [
    {
     "name": "stdout",
     "output_type": "stream",
     "text": [
      "<class 'float'> 5 <class 'int'>\n"
     ]
    }
   ],
   "source": [
    "num2 = 5.6\n",
    "c = (type(num2))\n",
    "d = (int(num2))\n",
    "e = (type(d))\n",
    "print(c,d,e)"
   ]
  },
  {
   "cell_type": "code",
   "execution_count": 41,
   "id": "4671980d-44b5-424c-8b7b-e7cf3f5f7610",
   "metadata": {},
   "outputs": [
    {
     "name": "stdout",
     "output_type": "stream",
     "text": [
      "<class 'float'> 4.43 <class 'str'>\n"
     ]
    }
   ],
   "source": [
    "num3 = 4.43\n",
    "c = (type(num3))\n",
    "d = (str(num3))\n",
    "e = (type(d))\n",
    "print(c,d,e)"
   ]
  },
  {
   "cell_type": "code",
   "execution_count": 68,
   "id": "eef35d05-3488-4328-a761-ff04505c9360",
   "metadata": {},
   "outputs": [
    {
     "name": "stdout",
     "output_type": "stream",
     "text": [
      "apple\n"
     ]
    }
   ],
   "source": [
    "# LIST\n",
    "fruits = [\"apple\", \"banana\", \"cherry\", \"coconut\", \"pineapple\", \"mango\", \"orange\"]\n",
    "a =(fruits[0])\n",
    "print(a)\n"
   ]
  },
  {
   "cell_type": "code",
   "execution_count": 67,
   "id": "e7857a21-c513-4a63-bc05-22d8116e2d80",
   "metadata": {},
   "outputs": [
    {
     "name": "stdout",
     "output_type": "stream",
     "text": [
      "orange\n"
     ]
    }
   ],
   "source": [
    "fruits = [\"apple\", \"banana\", \"cherry\", \"coconut\", \"pineapple\", \"mango\", \"orange\"]\n",
    "a = (fruits[-1])\n",
    "print(a)"
   ]
  },
  {
   "cell_type": "code",
   "execution_count": 71,
   "id": "ec6bda40-4171-4216-bd74-130a1a21103d",
   "metadata": {},
   "outputs": [
    {
     "name": "stdout",
     "output_type": "stream",
     "text": [
      "coconut\n"
     ]
    }
   ],
   "source": [
    "fruits = [\"apple\", \"banana\", \"cherry\", \"coconut\", \"pineapple\", \"mango\", \"orange\"]\n",
    "a = (fruits[3])\n",
    "print(a)"
   ]
  },
  {
   "cell_type": "code",
   "execution_count": 79,
   "id": "0aa7adc1-a600-4ab6-b3b4-74514f5b828d",
   "metadata": {},
   "outputs": [
    {
     "name": "stdout",
     "output_type": "stream",
     "text": [
      "[10, 20, 30]\n"
     ]
    }
   ],
   "source": [
    "# SLICING\n",
    "numbers = [10, 20, 30, 40, 50]\n",
    "print(numbers[0:3])"
   ]
  },
  {
   "cell_type": "code",
   "execution_count": 84,
   "id": "d1e1d2c9-40aa-488d-a131-48edfb212d6b",
   "metadata": {},
   "outputs": [
    {
     "name": "stdout",
     "output_type": "stream",
     "text": [
      "[40, 50]\n"
     ]
    }
   ],
   "source": [
    "numbers = [10, 20, 30, 40, 50]\n",
    "print(numbers[3:5])"
   ]
  },
  {
   "cell_type": "code",
   "execution_count": 87,
   "id": "c341c58c-166e-4abb-824d-3d70f4511cda",
   "metadata": {},
   "outputs": [
    {
     "name": "stdout",
     "output_type": "stream",
     "text": [
      "[20, 30, 40, 50]\n"
     ]
    }
   ],
   "source": [
    "numbers = [10, 20, 30, 40, 50]\n",
    "print(numbers[1:])"
   ]
  },
  {
   "cell_type": "code",
   "execution_count": 88,
   "id": "c4983543-48f9-4e26-946b-c21269ba90e6",
   "metadata": {},
   "outputs": [
    {
     "name": "stdout",
     "output_type": "stream",
     "text": [
      "[10, 20, 30, 40]\n"
     ]
    }
   ],
   "source": [
    "numbers = [10, 20, 30, 40, 50]\n",
    "print(numbers[:4])"
   ]
  },
  {
   "cell_type": "code",
   "execution_count": 93,
   "id": "ad151d3a-907c-47cb-8510-8e0137b52503",
   "metadata": {},
   "outputs": [
    {
     "name": "stdout",
     "output_type": "stream",
     "text": [
      "[50, 40, 30, 20, 10]\n"
     ]
    }
   ],
   "source": [
    "numbers = [10, 20, 30, 40, 50]\n",
    "print(numbers[::-1])"
   ]
  },
  {
   "cell_type": "code",
   "execution_count": 97,
   "id": "7cef7ffe-c6ba-44c0-b523-466a434feee6",
   "metadata": {},
   "outputs": [
    {
     "name": "stdout",
     "output_type": "stream",
     "text": [
      "[10, 30, 50]\n"
     ]
    }
   ],
   "source": [
    "numbers = [10, 20, 30, 40, 50]\n",
    "print(numbers[0:5:2])"
   ]
  },
  {
   "cell_type": "code",
   "execution_count": 99,
   "id": "fba6384b-4d2b-4cf5-b62b-eab705b888ff",
   "metadata": {},
   "outputs": [
    {
     "data": {
      "text/plain": [
       "['__add__',\n",
       " '__class__',\n",
       " '__class_getitem__',\n",
       " '__contains__',\n",
       " '__delattr__',\n",
       " '__delitem__',\n",
       " '__dir__',\n",
       " '__doc__',\n",
       " '__eq__',\n",
       " '__format__',\n",
       " '__ge__',\n",
       " '__getattribute__',\n",
       " '__getitem__',\n",
       " '__getstate__',\n",
       " '__gt__',\n",
       " '__hash__',\n",
       " '__iadd__',\n",
       " '__imul__',\n",
       " '__init__',\n",
       " '__init_subclass__',\n",
       " '__iter__',\n",
       " '__le__',\n",
       " '__len__',\n",
       " '__lt__',\n",
       " '__mul__',\n",
       " '__ne__',\n",
       " '__new__',\n",
       " '__reduce__',\n",
       " '__reduce_ex__',\n",
       " '__repr__',\n",
       " '__reversed__',\n",
       " '__rmul__',\n",
       " '__setattr__',\n",
       " '__setitem__',\n",
       " '__sizeof__',\n",
       " '__str__',\n",
       " '__subclasshook__',\n",
       " 'append',\n",
       " 'clear',\n",
       " 'copy',\n",
       " 'count',\n",
       " 'extend',\n",
       " 'index',\n",
       " 'insert',\n",
       " 'pop',\n",
       " 'remove',\n",
       " 'reverse',\n",
       " 'sort']"
      ]
     },
     "execution_count": 99,
     "metadata": {},
     "output_type": "execute_result"
    }
   ],
   "source": [
    "dir(list)"
   ]
  },
  {
   "cell_type": "code",
   "execution_count": 111,
   "id": "e3de59e7-6cb9-418e-889e-4b23448bd2c4",
   "metadata": {},
   "outputs": [
    {
     "name": "stdout",
     "output_type": "stream",
     "text": [
      "[1, 2, 3, 10]\n"
     ]
    }
   ],
   "source": [
    "#Add the number 10 to the end of the list using method.\n",
    "nums = [1, 2, 3]\n",
    "nums.append(10)\n",
    "print(nums)"
   ]
  },
  {
   "cell_type": "code",
   "execution_count": 114,
   "id": "8979c5e4-8770-403e-b641-2752fc11fd26",
   "metadata": {},
   "outputs": [
    {
     "name": "stdout",
     "output_type": "stream",
     "text": [
      "[1, 99, 2, 3]\n"
     ]
    }
   ],
   "source": [
    "#Insert the number 99 at index 1 using method.\n",
    "nums = [1, 2, 3]\n",
    "nums.insert(1,99)\n",
    "print(nums)"
   ]
  },
  {
   "cell_type": "code",
   "execution_count": 117,
   "id": "1536743c-9774-49fc-ab94-7f9086725173",
   "metadata": {},
   "outputs": [
    {
     "name": "stdout",
     "output_type": "stream",
     "text": [
      "[1, 2, 3, 4, 5]\n"
     ]
    }
   ],
   "source": [
    "#Add the elements of another list [4, 5] to the original list using method\n",
    "nums = [1, 2, 3]\n",
    "num = [4,5]\n",
    "nums.extend(num)\n",
    "print(nums)"
   ]
  },
  {
   "cell_type": "code",
   "execution_count": 120,
   "id": "0a16e897-f28b-4bc0-9dfc-469c81a94d76",
   "metadata": {},
   "outputs": [
    {
     "name": "stdout",
     "output_type": "stream",
     "text": [
      "[1, 2, 3, 4]\n"
     ]
    }
   ],
   "source": [
    "#Sort the list in ascending order using method\n",
    "nums = [4, 1, 3, 2]\n",
    "nums.sort()\n",
    "print(nums)"
   ]
  },
  {
   "cell_type": "code",
   "execution_count": 125,
   "id": "88648cbf-9ca2-4073-8ab1-7fb1e69a7f6a",
   "metadata": {},
   "outputs": [
    {
     "name": "stdout",
     "output_type": "stream",
     "text": [
      "['burger', 'fries', 'coke', 'ice cream']\n"
     ]
    }
   ],
   "source": [
    "order = [\"burger\", \"fries\", \"coke\"]\n",
    "\n",
    "#Add a new item \"ice cream\" \n",
    "order.append(\"ice cream\")\n",
    "print(order)"
   ]
  },
  {
   "cell_type": "code",
   "execution_count": 128,
   "id": "13eda9ee-f53e-494a-b517-35f2edddf85f",
   "metadata": {},
   "outputs": [
    {
     "name": "stdout",
     "output_type": "stream",
     "text": [
      "['burger', 'fries', 'coke', 'biryani']\n"
     ]
    }
   ],
   "source": [
    "order = [\"burger\", \"fries\", \"coke\"]\n",
    "#- first add item \"biryani\" \n",
    "order.append(\"biryani\")\n",
    "print(order)\n"
   ]
  },
  {
   "cell_type": "code",
   "execution_count": 132,
   "id": "9805eb66-cff6-48d8-ac86-6787ea98edbb",
   "metadata": {},
   "outputs": [
    {
     "name": "stdout",
     "output_type": "stream",
     "text": [
      "['burger', 'fries', 'coke']\n"
     ]
    }
   ],
   "source": [
    "order = ['burger', 'fries', 'coke', 'biryani']\n",
    "order.remove('biryani')\n",
    "print(order)"
   ]
  },
  {
   "cell_type": "code",
   "execution_count": 135,
   "id": "96b1623e-144b-4dcd-b92d-53bb6496cd76",
   "metadata": {},
   "outputs": [
    {
     "name": "stdout",
     "output_type": "stream",
     "text": [
      "['Ali', 'Zara', 'Sara', 'Ahmed']\n"
     ]
    }
   ],
   "source": [
    "#Track passengers on a bus:\n",
    "\n",
    "passengers = [\"Ali\", \"Zara\", \"Ahmed\"]\n",
    "#Insert a new passenger \"Sara\" at position 2\n",
    "passengers.insert(2,\"Sara\")\n",
    "print(passengers)\n",
    "                  \n",
    "                  \n",
    "                  \n",
    "                  "
   ]
  },
  {
   "cell_type": "code",
   "execution_count": 137,
   "id": "fa34cc0b-c82a-4515-95d7-5e898210dc33",
   "metadata": {},
   "outputs": [
    {
     "name": "stdout",
     "output_type": "stream",
     "text": [
      "['Ali', 'Sara', 'Ahmed']\n"
     ]
    }
   ],
   "source": [
    "passengers = ['Ali', 'Zara', 'Sara', 'Ahmed'] \n",
    "# Remove passesnger who got off \"Zara\"\n",
    "passengers.remove('Zara')\n",
    "print(passengers)"
   ]
  },
  {
   "cell_type": "code",
   "execution_count": 138,
   "id": "4e6a8a1a-a3c6-4750-b2e2-938056ef8298",
   "metadata": {},
   "outputs": [
    {
     "name": "stdout",
     "output_type": "stream",
     "text": [
      "['Ahmed', 'Zara', 'Ali']\n"
     ]
    }
   ],
   "source": [
    "passengers = [\"Ali\", \"Zara\", \"Ahmed\"]\n",
    "#Reverse the order to show who entered first\n",
    "passengers.reverse()\n",
    "print(passengers)"
   ]
  },
  {
   "cell_type": "code",
   "execution_count": null,
   "id": "490ab3bc-9945-421b-b736-bf56eeb63424",
   "metadata": {},
   "outputs": [],
   "source": []
  }
 ],
 "metadata": {
  "kernelspec": {
   "display_name": "Python 3 (ipykernel)",
   "language": "python",
   "name": "python3"
  },
  "language_info": {
   "codemirror_mode": {
    "name": "ipython",
    "version": 3
   },
   "file_extension": ".py",
   "mimetype": "text/x-python",
   "name": "python",
   "nbconvert_exporter": "python",
   "pygments_lexer": "ipython3",
   "version": "3.12.7"
  }
 },
 "nbformat": 4,
 "nbformat_minor": 5
}
