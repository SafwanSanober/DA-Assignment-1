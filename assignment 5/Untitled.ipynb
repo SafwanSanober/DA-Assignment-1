{
 "cells": [
  {
   "cell_type": "markdown",
   "id": "cbbfb26e-5ea1-4ef0-aa66-7dbed1adedf7",
   "metadata": {},
   "source": [
    "#QUESTION:1"
   ]
  },
  {
   "cell_type": "code",
   "execution_count": 9,
   "id": "04af84c1-3313-49cb-9c9c-99476c46ebb8",
   "metadata": {},
   "outputs": [
    {
     "name": "stdout",
     "output_type": "stream",
     "text": [
      "3\n"
     ]
    }
   ],
   "source": [
    "#Write a Python function called add_numbers that takes two numbers as arguments and returns their sum. Then, test the function by calling it with two numbers of your choice.\n",
    "def add_numbers(a , b):\n",
    "    sum = a + b\n",
    "    print(sum)\n",
    "add_numbers(1,2)\n"
   ]
  },
  {
   "cell_type": "markdown",
   "id": "c569de9f-e1c2-426d-b8d0-2b033a61bafc",
   "metadata": {},
   "source": [
    "#QUESTION:2"
   ]
  },
  {
   "cell_type": "code",
   "execution_count": 10,
   "id": "47025c3e-67e2-4291-8daa-2a9bdc516fee",
   "metadata": {},
   "outputs": [
    {
     "name": "stdout",
     "output_type": "stream",
     "text": [
      "12600\n"
     ]
    }
   ],
   "source": [
    "#Create a Python function called currency_converter() that takes two arguments:\n",
    "#amount: The amount of money to be converted (in USD).\n",
    "#exchange_rate (default is 280): The conversion rate from USD to another currency (e.g., PKR). You can assume the default rate is 1 USD = 280 PKR.\n",
    "#The function should return a message showing how much the given amount is worth in the target currency (PKR).\n",
    "def currency_conveter(amount , exchangerate=280):\n",
    "    converter = amount * 280\n",
    "    print(converter)\n",
    "\n",
    "currency_conveter(45)"
   ]
  },
  {
   "cell_type": "markdown",
   "id": "a0256ef1-6ec6-40be-a373-7c525f48f5f0",
   "metadata": {},
   "source": [
    "#QUESTION:3"
   ]
  },
  {
   "cell_type": "code",
   "execution_count": 21,
   "id": "5a9d1cd6-b2e4-4b4c-82b6-90f9a55462df",
   "metadata": {},
   "outputs": [
    {
     "name": "stdout",
     "output_type": "stream",
     "text": [
      "Student Name: ali\n",
      "Age: 15\n",
      "Grade: 9\n",
      "School: st_paatrik\n"
     ]
    }
   ],
   "source": [
    "#Write a Python function display_student_info that accepts the following details about a student:\n",
    "\n",
    "#- name (Keyword argument): The name of the student.\n",
    "#- age (Keyword argument): The age of the student.\n",
    "#- grade (Keyword argument): The grade the student is in.\n",
    "#- school (Keyword argument): The name of the school the student attends.\n",
    "def display_student_info(name, age, grade, school):\n",
    "    info = (\n",
    "        f\"Student Name: {name}\\n\"\n",
    "        f\"Age: {age}\\n\"\n",
    "        f\"Grade: {grade}\\n\"\n",
    "        f\"School: {school}\"\n",
    "    )\n",
    "    print(info)\n",
    "\n",
    "# Example usage\n",
    "display_student_info(\"ali\" , 15, 9 ,'st_paatrik')\n"
   ]
  },
  {
   "cell_type": "markdown",
   "id": "3f27e7bf-da27-43d9-a763-0315ceaa3136",
   "metadata": {},
   "source": [
    "#QUESTION#4"
   ]
  },
  {
   "cell_type": "code",
   "execution_count": 22,
   "id": "3ecf9584-7b86-497c-b81d-9f224dfc6476",
   "metadata": {},
   "outputs": [
    {
     "name": "stdout",
     "output_type": "stream",
     "text": [
      "450\n"
     ]
    }
   ],
   "source": [
    "#Write a Python function calculate_price that accepts two positional arguments:\n",
    "#price: The price of a single item.\n",
    "#quantity: The number of items bought.\n",
    "#The function should return the total price by multiplying price and quantity.\n",
    "def calculate_price(price, quantity):\n",
    "    price=price * quantity\n",
    "    print(price)\n",
    "\n",
    "calculate_price(15, 30)\n"
   ]
  },
  {
   "cell_type": "markdown",
   "id": "3e404931-c025-4d51-a39f-59dd0fc3ed88",
   "metadata": {},
   "source": [
    "#QUESTION:5"
   ]
  },
  {
   "cell_type": "code",
   "execution_count": 25,
   "id": "fd8b6395-a55b-460c-b134-a4ad204124df",
   "metadata": {},
   "outputs": [
    {
     "name": "stdout",
     "output_type": "stream",
     "text": [
      "Product: Laptop\n",
      "Amazon: PKR800\n",
      "eBay: PKR750\n",
      "Walmart: PKR780\n"
     ]
    }
   ],
   "source": [
    "def display_prices(product, **prices):\n",
    "    print(f\"Product: {product}\")\n",
    "    print(f\"Amazon: PKR{prices.get('Amazon')}\")\n",
    "    print(f\"eBay: PKR{prices.get('eBay')}\")\n",
    "    print(f\"Walmart: PKR{prices.get('Walmart')}\")\n",
    "display_prices(\"Laptop\", Amazon=800, eBay=750, Walmart=780)\n"
   ]
  },
  {
   "cell_type": "markdown",
   "id": "d80e29b1-807a-4b6f-a495-b7cc1f739082",
   "metadata": {},
   "source": [
    "#QUESTION:6\n"
   ]
  },
  {
   "cell_type": "code",
   "execution_count": 27,
   "id": "ef733936-486b-4171-833d-1f206d20065e",
   "metadata": {},
   "outputs": [
    {
     "name": "stdout",
     "output_type": "stream",
     "text": [
      "Name: Alice\n",
      "Age: 30\n",
      "Other Details:\n",
      "address: 123 Main St\n",
      "phone: 123-456-7890\n",
      "email: alice@example.com\n"
     ]
    }
   ],
   "source": [
    "#Write a Python function display_info that takes: Positional arguments for the name and age of a person. Keyword arguments for other personal details like address, phone number, and email. Example Output:\n",
    "#Name: Alice\n",
    "#Age: 30\n",
    "#Other Details:\n",
    "#address: 123 Main St\n",
    "#phone: 123-456-7890\n",
    "#email: alice@example.com   \n",
    "def display_info(name, age, **details):\n",
    "    print(f\"Name: {name}\")\n",
    "    print(f\"Age: {age}\")\n",
    "    print(\"Other Details:\")\n",
    "    print(f\"address: {details.get('address', '')}\")\n",
    "    print(f\"phone: {details.get('phone', '')}\")\n",
    "    print(f\"email: {details.get('email', '')}\")\n",
    "display_info(\n",
    "    \"Alice\", 30,\n",
    "    address=\"123 Main St\",\n",
    "    phone=\"123-456-7890\",\n",
    "    email=\"alice@example.com\"\n",
    ")\n",
    "\n"
   ]
  },
  {
   "cell_type": "markdown",
   "id": "43ea6ce1-2d35-49ba-b316-dd3f3263b6ba",
   "metadata": {},
   "source": [
    "#QUESTION 7"
   ]
  },
  {
   "cell_type": "code",
   "execution_count": 29,
   "id": "0e576bf0-9ead-4847-a09b-f18b07db0e17",
   "metadata": {},
   "outputs": [
    {
     "name": "stdout",
     "output_type": "stream",
     "text": [
      "In-stock product names: ['Laptop', 'Headphones', 'Smartwatch', 'Keyboard']\n",
      "Discounted prices: [('Laptop', 1080.0), ('Headphones', 120.0), ('Smartwatch', 300), ('Keyboard', 85.0)]\n"
     ]
    }
   ],
   "source": [
    "#products = [ {\"name\": \"Laptop\", \"price\": 1200, \"in_stock\": True, \"discount\": 0.1}, {\"name\": \"Smartphone\", \"price\": 800, \"in_stock\": False, \"discount\": 0.05}, {\"name\": \"Headphones\", \"price\": 150, \"in_stock\": True, \"discount\": 0.2}, {\"name\": \"Smartwatch\", \"price\": 300, \"in_stock\": True, \"discount\": 0}, {\"name\": \"Keyboard\", \"price\": 100, \"in_stock\": True, \"discount\": 0.15} ]\n",
    "#Get names of in-stock products:\n",
    "#*Use list comprehension to generate a list of names for the products that are in stock.\n",
    "\n",
    "#Calculate final prices for in-stock products after discount:\n",
    "#*For products that have a discount, calculate the final price by applying the discount.\n",
    "\n",
    "#*For products with no discount, keep the original price.\n",
    "\n",
    "#Generate a list of tuples with the product name and its final price.\n",
    "#Example Output:\n",
    "\n",
    "#In-stock product names: ['Laptop', 'Headphones', 'Smartwatch', 'Keyboard']\n",
    "#Discounted prices: [('Laptop', 1080.0), ('Headphones', 120.0), ('Smartwatch', 300), ('Keyboard', 85.0)]\n",
    "products = [\n",
    "    {\"name\": \"Laptop\", \"price\": 1200, \"in_stock\": True, \"discount\": 0.1},\n",
    "    {\"name\": \"Smartphone\", \"price\": 800, \"in_stock\": False, \"discount\": 0.05},\n",
    "    {\"name\": \"Headphones\", \"price\": 150, \"in_stock\": True, \"discount\": 0.2},\n",
    "    {\"name\": \"Smartwatch\", \"price\": 300, \"in_stock\": True, \"discount\": 0},\n",
    "    {\"name\": \"Keyboard\", \"price\": 100, \"in_stock\": True, \"discount\": 0.15}\n",
    "]\n",
    "in_stock_names = [p[\"name\"] for p in products if p[\"in_stock\"]]\n",
    "discounted_prices = [\n",
    "    (p[\"name\"], p[\"price\"] * (1 - p[\"discount\"]) if p[\"discount\"] > 0 else p[\"price\"])\n",
    "    for p in products if p[\"in_stock\"]\n",
    "]\n",
    "print(\"In-stock product names:\", in_stock_names)\n",
    "print(\"Discounted prices:\", discounted_prices)\n"
   ]
  },
  {
   "cell_type": "markdown",
   "id": "cbf58919-1d65-4fac-b061-c747e721bafe",
   "metadata": {},
   "source": [
    "#QUESTION:8"
   ]
  },
  {
   "cell_type": "code",
   "execution_count": 30,
   "id": "de96d983-3a67-4ba5-a747-9a9aa5a9c187",
   "metadata": {},
   "outputs": [
    {
     "name": "stdout",
     "output_type": "stream",
     "text": [
      "[2, 4, 6, 8, 10, 12, 14, 16, 18, 20]\n"
     ]
    }
   ],
   "source": [
    "even_numbers = [num for num in range(1, 21) if num % 2 == 0]\n",
    "print(even_numbers)\n"
   ]
  },
  {
   "cell_type": "markdown",
   "id": "a8eccd38-34ca-4219-96cb-9b8d2ab67dc5",
   "metadata": {},
   "source": [
    "#QUESTION 9"
   ]
  },
  {
   "cell_type": "code",
   "execution_count": 31,
   "id": "aa9826da-ba91-418f-b450-15476af0e3f0",
   "metadata": {},
   "outputs": [
    {
     "name": "stdout",
     "output_type": "stream",
     "text": [
      "[3, 5, 6, 9, 10, 15, 20, 30]\n"
     ]
    }
   ],
   "source": [
    "#Create a list of numbers, generate a new list containing only the numbers that are divisible by 3 or 5. (List Comprehension)\n",
    "numbers = [1, 2, 3, 4, 5, 6, 7, 8, 9, 10, 15, 20, 22, 30]\n",
    "divisible_by_3_or_5 = [num for num in numbers if num % 3 == 0 or num % 5 == 0]\n",
    "print(divisible_by_3_or_5)\n"
   ]
  },
  {
   "cell_type": "code",
   "execution_count": null,
   "id": "3e8f4d56-6838-41b2-822e-3805ebf23639",
   "metadata": {},
   "outputs": [],
   "source": []
  }
 ],
 "metadata": {
  "kernelspec": {
   "display_name": "Python 3 (ipykernel)",
   "language": "python",
   "name": "python3"
  },
  "language_info": {
   "codemirror_mode": {
    "name": "ipython",
    "version": 3
   },
   "file_extension": ".py",
   "mimetype": "text/x-python",
   "name": "python",
   "nbconvert_exporter": "python",
   "pygments_lexer": "ipython3",
   "version": "3.12.7"
  }
 },
 "nbformat": 4,
 "nbformat_minor": 5
}
