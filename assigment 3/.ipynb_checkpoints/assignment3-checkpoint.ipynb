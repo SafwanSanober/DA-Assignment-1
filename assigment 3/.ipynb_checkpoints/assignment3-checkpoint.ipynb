{
 "cells": [
  {
   "cell_type": "markdown",
   "id": "4d21c4a0-e7bf-4a9d-9eab-83a711f7e27b",
   "metadata": {},
   "source": [
    "#QUESTION 1 \n",
    "\n",
    "\n"
   ]
  },
  {
   "cell_type": "code",
   "execution_count": 26,
   "id": "e0c6b16a-a68b-4aaf-8421-211e6568f177",
   "metadata": {},
   "outputs": [
    {
     "name": "stdin",
     "output_type": "stream",
     "text": [
      "Enter your age:  21\n"
     ]
    },
    {
     "name": "stdout",
     "output_type": "stream",
     "text": [
      "You're adult\n"
     ]
    }
   ],
   "source": [
    "#Write a Python program that takes the age of a person as input and classifies them into one of the following age groups:\n",
    "\n",
    "#\"Child\" if the age is between 0 and 12 (inclusive).\n",
    "\n",
    "#\"Teenager\" if the age is between 13 and 19 (inclusive).\n",
    "\n",
    "#\"Adult\" if the age is between 20 and 64 (inclusive).\n",
    "\n",
    "#\"Senior\" if the age is 65 or older.\n",
    "age = int(input(\"Enter your age: \"))\n",
    "if age >=0 and age <=12:\n",
    "    print(\"You're child\")\n",
    "elif age >=13 and age <=19:\n",
    "    print(\"You're teenager\")\n",
    "elif age >=20 and age <= 64:\n",
    "    print(\"You're adult\")\n",
    "elif age >=65 and age <=200:\n",
    "    print(\"You're senior\")\n",
    "else:\n",
    "    print(\"Invalid age\")\n",
    "\n",
    "\n",
    "\n",
    "    \n",
    "\n",
    "      \n",
    "\n",
    "        "
   ]
  },
  {
   "cell_type": "markdown",
   "id": "3fb37a45-d235-4fa3-8f59-ca647b5cae68",
   "metadata": {},
   "source": [
    "#QUESTION 2"
   ]
  },
  {
   "cell_type": "code",
   "execution_count": null,
   "id": "e42c878d-eb75-48eb-9105-f9b01cf55f68",
   "metadata": {},
   "outputs": [],
   "source": [
    "# Write a Python program that asks the user to enter an email address. The program should check if the email contains the characters @ and \".\"\n",
    "#(ignoring case). If either character is present, print \"Email format is valid.\" Otherwise, print \"Invalid email format.\"\n",
    "email = input(\"Enter your email: \")\n",
    "if \"@\" in email and \".\" in email:\n",
    "    print(\"Email format is valid\")\n",
    "else:\n",
    "    print(\"Invalid email format\")"
   ]
  },
  {
   "cell_type": "markdown",
   "id": "4ccd4260-80b8-49d6-a830-2f943a045cb1",
   "metadata": {},
   "source": [
    "#QUESTION 3"
   ]
  },
  {
   "cell_type": "code",
   "execution_count": 7,
   "id": "47f771c9-75f3-42f6-b81b-a12f314cce00",
   "metadata": {},
   "outputs": [
    {
     "name": "stdin",
     "output_type": "stream",
     "text": [
      "Enter first number:  2\n",
      "Enter second number:  2\n",
      "Enter third number:  3\n"
     ]
    },
    {
     "name": "stdout",
     "output_type": "stream",
     "text": [
      "The largest number is: 3.0\n",
      "Two of the numbers are equal.\n"
     ]
    }
   ],
   "source": [
    "#Write a Python program that takes three numbers as input and determines the largest among them. Also, check if any or all of the numbers are equal.\"\n",
    "num1 = float(input(\"Enter first number: \"))\n",
    "num2 = float(input(\"Enter second number: \"))\n",
    "num3 = float(input(\"Enter third number: \"))\n",
    "\n",
    "\n",
    "if num1 == num2 == num3:\n",
    "    print(\"All numbers are equal.\")\n",
    "\n",
    "else:\n",
    "    if num1 >= num2 and num1 >= num3:\n",
    "        largest = num1\n",
    "    elif num2 >= num1 and num2 >= num3:\n",
    "        largest = num2\n",
    "    else:\n",
    "        largest = num3\n",
    "\n",
    "    print(\"The largest number is:\", largest)\n",
    "\n",
    "   \n",
    "    if num1 == num2 or num1 == num3 or num2 == num3:\n",
    "        print(\"Two of the numbers are equal.\")\n",
    "    else:\n",
    "        print(\"No numbers are equal.\")\n",
    "\n",
    "    \n",
    "\n",
    "\n",
    "\n",
    "        "
   ]
  },
  {
   "cell_type": "markdown",
   "id": "847f0f8d-852a-427c-9401-012b97de0921",
   "metadata": {},
   "source": [
    "#QUESTION 4"
   ]
  },
  {
   "cell_type": "code",
   "execution_count": 24,
   "id": "a042f7a7-2c80-4c82-908d-44ea55195256",
   "metadata": {},
   "outputs": [
    {
     "name": "stdin",
     "output_type": "stream",
     "text": [
      "Enter any number:  0\n"
     ]
    },
    {
     "name": "stdout",
     "output_type": "stream",
     "text": [
      "the number is not positive\n"
     ]
    }
   ],
   "source": [
    "# Write a Python program that:\n",
    "\n",
    "#Asks the user to enter a number.\n",
    "\n",
    "#Checks whether the number is positive.\n",
    "\n",
    "#If yes, further check if it's even or odd.\n",
    "\n",
    "#Print \"The number is positive and even\" if divisible by 2.\n",
    "\n",
    "#Print \"The number is positive and odd\" if not divisible by 2.\n",
    "\n",
    "#If the number is zero or negative, print \"The number is not positive\"\n",
    "num = int(input(\"Enter any number: \"))\n",
    "if num > 0:\n",
    " \n",
    "    if num % 2 == 0:\n",
    "        print(\"the number is postive and even\")\n",
    "    else:\n",
    "        print(\"the number is positive and odd\")\n",
    "        \n",
    "else:\n",
    "    print(\"the number is not positive\")\n",
    "    \n",
    "          \n"
   ]
  },
  {
   "cell_type": "markdown",
   "id": "dcaf4203-0fba-47a9-a7b4-2e3220e235af",
   "metadata": {},
   "source": [
    "#QUESTUION 5\n"
   ]
  },
  {
   "cell_type": "code",
   "execution_count": 33,
   "id": "962b48af-c061-483b-9030-0850fab969d9",
   "metadata": {},
   "outputs": [
    {
     "name": "stdin",
     "output_type": "stream",
     "text": [
      "Enter your username admin\n",
      "Enter your password 1234\n"
     ]
    },
    {
     "name": "stdout",
     "output_type": "stream",
     "text": [
      "access granted\n"
     ]
    }
   ],
   "source": [
    "# Ask the user for a username and password. Check if the username is correct. If it is, then check if the password is correct.\n",
    "#If both are correct, print \"Access granted\".\n",
    "\n",
    "username = \"admin\"\n",
    "\n",
    "password = \"1234\"\n",
    "User_name = input(\"Enter your username\")\n",
    "passs = input(\"Enter your password\")\n",
    "if username == User_name:\n",
    "    #print(\"username is coorrect\")\n",
    "    if passs == password:\n",
    "        print(\"access granted\")\n",
    "    else:\n",
    "        print(\"invalid password\")\n",
    "\n",
    "else:\n",
    "    print(\"invalid username\")"
   ]
  },
  {
   "cell_type": "code",
   "execution_count": 35,
   "id": "81099a53-dfa2-44e5-a539-fdfba24a4e13",
   "metadata": {},
   "outputs": [
    {
     "data": {
      "text/plain": [
       "['__add__',\n",
       " '__class__',\n",
       " '__class_getitem__',\n",
       " '__contains__',\n",
       " '__delattr__',\n",
       " '__dir__',\n",
       " '__doc__',\n",
       " '__eq__',\n",
       " '__format__',\n",
       " '__ge__',\n",
       " '__getattribute__',\n",
       " '__getitem__',\n",
       " '__getnewargs__',\n",
       " '__getstate__',\n",
       " '__gt__',\n",
       " '__hash__',\n",
       " '__init__',\n",
       " '__init_subclass__',\n",
       " '__iter__',\n",
       " '__le__',\n",
       " '__len__',\n",
       " '__lt__',\n",
       " '__mul__',\n",
       " '__ne__',\n",
       " '__new__',\n",
       " '__reduce__',\n",
       " '__reduce_ex__',\n",
       " '__repr__',\n",
       " '__rmul__',\n",
       " '__setattr__',\n",
       " '__sizeof__',\n",
       " '__str__',\n",
       " '__subclasshook__',\n",
       " 'count',\n",
       " 'index']"
      ]
     },
     "execution_count": 35,
     "metadata": {},
     "output_type": "execute_result"
    }
   ],
   "source": [
    "dir(tuple)"
   ]
  },
  {
   "cell_type": "markdown",
   "id": "c8362069-c33a-4991-bf3c-2d9543450df7",
   "metadata": {},
   "source": [
    "#QUESTION 6"
   ]
  },
  {
   "cell_type": "code",
   "execution_count": 41,
   "id": "42d9ff2d-4ee3-4339-8c97-6e9b9465b284",
   "metadata": {},
   "outputs": [
    {
     "name": "stdin",
     "output_type": "stream",
     "text": [
      "enter any number 2\n"
     ]
    },
    {
     "name": "stdout",
     "output_type": "stream",
     "text": [
      "value doesn't exist\n"
     ]
    }
   ],
   "source": [
    "#Take an integer input from the user and check whether the entered value exists in the tuple my_tuple = (5, 10, 15, 20, 25).\n",
    "#Print an appropriate message based on the result.\n",
    "my_tuple = (5,10,12,20,25)\n",
    "enter_number = int(input(\"enter any number\"))\n",
    "if enter_number  in my_tuple:\n",
    "    print(\"value exist\")\n",
    "else:\n",
    "    print(\"value doesn't exist\")"
   ]
  },
  {
   "cell_type": "markdown",
   "id": "f7568990-2635-4b05-b1e9-fd5c7fcf6b65",
   "metadata": {},
   "source": [
    "#QUESTION 7"
   ]
  },
  {
   "cell_type": "code",
   "execution_count": 1,
   "id": "f6b12f4a-5516-4824-ae1f-ceaf10c94e97",
   "metadata": {},
   "outputs": [
    {
     "name": "stdin",
     "output_type": "stream",
     "text": [
      "Enter your first name:  safwN\n",
      "Enter your last name:  SANOBER\n",
      "Enter your age:  22\n"
     ]
    },
    {
     "name": "stdout",
     "output_type": "stream",
     "text": [
      "User information tuple: ('safwN', 'SANOBER', '22')\n"
     ]
    }
   ],
   "source": [
    "# Create a program that takes the user's first name, last name, and age as input, packs them into a tuple, and prints the tuple.\n",
    "# Taking user input\n",
    "first_name = input(\"Enter your first name: \")\n",
    "last_name = input(\"Enter your last name: \")\n",
    "age = input(\"Enter your age: \")\n",
    "user_info = (first_name, last_name, age)\n",
    "print(\"User information tuple:\", user_info)\n"
   ]
  },
  {
   "cell_type": "markdown",
   "id": "adad9799-11c2-4268-9328-beab063ce9a2",
   "metadata": {},
   "source": [
    "#QUESTION 8"
   ]
  },
  {
   "cell_type": "code",
   "execution_count": 2,
   "id": "2c784c83-1fc7-4025-b5b6-ffcf471b03d2",
   "metadata": {},
   "outputs": [
    {
     "name": "stdout",
     "output_type": "stream",
     "text": [
      "The sum of the coordinates is: 15\n"
     ]
    }
   ],
   "source": [
    "# Given the tuple coordinates = (4, 5, 6), unpack the elements of the tuple into three variables x, y, and z. Then, calculate and print the sum of the variables.\n",
    "# Given tuple\n",
    "coordinates = (4, 5, 6)\n",
    "x, y, z = coordinates\n",
    "total = x + y + z\n",
    "print(\"The sum of the coordinates is:\", total)\n"
   ]
  },
  {
   "cell_type": "markdown",
   "id": "9435bbc5-3fa7-4f0d-9fc7-def5f9f9f433",
   "metadata": {},
   "source": [
    "#QUESTION 9"
   ]
  },
  {
   "cell_type": "code",
   "execution_count": 3,
   "id": "612be107-2286-49d6-bced-8c035d5181e0",
   "metadata": {},
   "outputs": [
    {
     "name": "stdout",
     "output_type": "stream",
     "text": [
      "Tuple after removing 3: (1, 2, 4, 5)\n"
     ]
    }
   ],
   "source": [
    "# Given the tuple my_tuple = (1, 2, 3, 4, 5), remove the element 3 from the tuple by first converting it to a list, and then print the resulting tuple.\n",
    "# Original tuple\n",
    "my_tuple = (1, 2, 3, 4, 5)\n",
    "temp_list = list(my_tuple)\n",
    "temp_list.remove(3)\n",
    "updated_tuple = tuple(temp_list)\n",
    "print(\"Tuple after removing 3:\", updated_tuple)\n"
   ]
  },
  {
   "cell_type": "markdown",
   "id": "4dcfcc42-62a2-428d-8069-1a4e106aa1ed",
   "metadata": {},
   "source": [
    "#QUESTION 10"
   ]
  },
  {
   "cell_type": "code",
   "execution_count": 4,
   "id": "e20e4316-2800-4fb6-97c0-527ee03fdc2f",
   "metadata": {},
   "outputs": [
    {
     "name": "stdout",
     "output_type": "stream",
     "text": [
      "Maximum value: 30\n",
      "Minimum value: 5\n"
     ]
    }
   ],
   "source": [
    "#Given the tuple numbers = (10, 20, 5, 30, 15), find and print the maximum and minimum values in the tuple.\n",
    "numbers = (10, 20, 5, 30, 15)\n",
    "\n",
    "a, b, c, d, e = numbers  \n",
    "\n",
    "if a > b and a > c and a > d and a > e:\n",
    "    maximum = a\n",
    "elif b > a and b > c and b > d and b > e:\n",
    "    maximum = b\n",
    "elif c > a and c > b and c > d and c > e:\n",
    "    maximum = c\n",
    "elif d > a and d > b and d > c and d > e:\n",
    "    maximum = d\n",
    "else:\n",
    "    maximum = e\n",
    "if a < b and a < c and a < d and a < e:\n",
    "    minimum = a\n",
    "elif b < a and b < c and b < d and b < e:\n",
    "    minimum = b\n",
    "elif c < a and c < b and c < d and c < e:\n",
    "    minimum = c\n",
    "elif d < a and d < b and d < c and d < e:\n",
    "    minimum = d\n",
    "else:\n",
    "    minimum = e\n",
    "\n",
    "print(\"Maximum value:\", maximum)\n",
    "print(\"Minimum value:\", minimum)\n"
   ]
  },
  {
   "cell_type": "code",
   "execution_count": null,
   "id": "313a8c8e-a020-418d-b8cc-d3115cba12d8",
   "metadata": {},
   "outputs": [],
   "source": []
  }
 ],
 "metadata": {
  "kernelspec": {
   "display_name": "Python 3 (ipykernel)",
   "language": "python",
   "name": "python3"
  },
  "language_info": {
   "codemirror_mode": {
    "name": "ipython",
    "version": 3
   },
   "file_extension": ".py",
   "mimetype": "text/x-python",
   "name": "python",
   "nbconvert_exporter": "python",
   "pygments_lexer": "ipython3",
   "version": "3.12.7"
  }
 },
 "nbformat": 4,
 "nbformat_minor": 5
}
